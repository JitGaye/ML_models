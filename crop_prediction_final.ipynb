{
 "cells": [
  {
   "cell_type": "code",
   "execution_count": 14,
   "id": "20a61d6e-4d9e-418e-ba7c-494fcd7e7c76",
   "metadata": {},
   "outputs": [],
   "source": [
    "import numpy as np\n",
    "import pandas as pd"
   ]
  },
  {
   "cell_type": "code",
   "execution_count": 15,
   "id": "199eae06-2b7e-4a2f-8d4b-648aca04f12c",
   "metadata": {},
   "outputs": [],
   "source": [
    "dataset = pd.read_csv(\"Crop_recommendation.csv\")"
   ]
  },
  {
   "cell_type": "code",
   "execution_count": 16,
   "id": "32fbd579-ce43-4896-bb25-6a62b0b0b0bc",
   "metadata": {},
   "outputs": [
    {
     "data": {
      "text/html": [
       "<div>\n",
       "<style scoped>\n",
       "    .dataframe tbody tr th:only-of-type {\n",
       "        vertical-align: middle;\n",
       "    }\n",
       "\n",
       "    .dataframe tbody tr th {\n",
       "        vertical-align: top;\n",
       "    }\n",
       "\n",
       "    .dataframe thead th {\n",
       "        text-align: right;\n",
       "    }\n",
       "</style>\n",
       "<table border=\"1\" class=\"dataframe\">\n",
       "  <thead>\n",
       "    <tr style=\"text-align: right;\">\n",
       "      <th></th>\n",
       "      <th>N</th>\n",
       "      <th>P</th>\n",
       "      <th>K</th>\n",
       "      <th>temperature</th>\n",
       "      <th>humidity</th>\n",
       "      <th>ph</th>\n",
       "      <th>rainfall</th>\n",
       "      <th>label</th>\n",
       "    </tr>\n",
       "  </thead>\n",
       "  <tbody>\n",
       "    <tr>\n",
       "      <th>0</th>\n",
       "      <td>90</td>\n",
       "      <td>42</td>\n",
       "      <td>43</td>\n",
       "      <td>20.879744</td>\n",
       "      <td>82.002744</td>\n",
       "      <td>6.502985</td>\n",
       "      <td>202.935536</td>\n",
       "      <td>rice</td>\n",
       "    </tr>\n",
       "    <tr>\n",
       "      <th>1</th>\n",
       "      <td>85</td>\n",
       "      <td>58</td>\n",
       "      <td>41</td>\n",
       "      <td>21.770462</td>\n",
       "      <td>80.319644</td>\n",
       "      <td>7.038096</td>\n",
       "      <td>226.655537</td>\n",
       "      <td>rice</td>\n",
       "    </tr>\n",
       "    <tr>\n",
       "      <th>2</th>\n",
       "      <td>60</td>\n",
       "      <td>55</td>\n",
       "      <td>44</td>\n",
       "      <td>23.004459</td>\n",
       "      <td>82.320763</td>\n",
       "      <td>7.840207</td>\n",
       "      <td>263.964248</td>\n",
       "      <td>rice</td>\n",
       "    </tr>\n",
       "    <tr>\n",
       "      <th>3</th>\n",
       "      <td>74</td>\n",
       "      <td>35</td>\n",
       "      <td>40</td>\n",
       "      <td>26.491096</td>\n",
       "      <td>80.158363</td>\n",
       "      <td>6.980401</td>\n",
       "      <td>242.864034</td>\n",
       "      <td>rice</td>\n",
       "    </tr>\n",
       "    <tr>\n",
       "      <th>4</th>\n",
       "      <td>78</td>\n",
       "      <td>42</td>\n",
       "      <td>42</td>\n",
       "      <td>20.130175</td>\n",
       "      <td>81.604873</td>\n",
       "      <td>7.628473</td>\n",
       "      <td>262.717340</td>\n",
       "      <td>rice</td>\n",
       "    </tr>\n",
       "  </tbody>\n",
       "</table>\n",
       "</div>"
      ],
      "text/plain": [
       "    N   P   K  temperature   humidity        ph    rainfall label\n",
       "0  90  42  43    20.879744  82.002744  6.502985  202.935536  rice\n",
       "1  85  58  41    21.770462  80.319644  7.038096  226.655537  rice\n",
       "2  60  55  44    23.004459  82.320763  7.840207  263.964248  rice\n",
       "3  74  35  40    26.491096  80.158363  6.980401  242.864034  rice\n",
       "4  78  42  42    20.130175  81.604873  7.628473  262.717340  rice"
      ]
     },
     "execution_count": 16,
     "metadata": {},
     "output_type": "execute_result"
    }
   ],
   "source": [
    "dataset.head()"
   ]
  },
  {
   "cell_type": "code",
   "execution_count": 17,
   "id": "aa6ebe59-7b26-4213-a5b3-7dda2bf3ee15",
   "metadata": {},
   "outputs": [],
   "source": [
    "y= dataset.iloc[:, -1:].values"
   ]
  },
  {
   "cell_type": "code",
   "execution_count": 18,
   "id": "25d8a4cc-8e46-44f1-9aa8-0a785bed7d7f",
   "metadata": {},
   "outputs": [
    {
     "data": {
      "text/plain": [
       "array([['rice'],\n",
       "       ['rice'],\n",
       "       ['rice'],\n",
       "       ...,\n",
       "       ['coffee'],\n",
       "       ['coffee'],\n",
       "       ['coffee']], dtype=object)"
      ]
     },
     "execution_count": 18,
     "metadata": {},
     "output_type": "execute_result"
    }
   ],
   "source": [
    "y"
   ]
  },
  {
   "cell_type": "code",
   "execution_count": 32,
   "id": "fe0f0f38-8c4f-4cf4-8c4d-605ac70b51c9",
   "metadata": {},
   "outputs": [],
   "source": [
    "y_rgh = dataset['label']"
   ]
  },
  {
   "cell_type": "code",
   "execution_count": 33,
   "id": "a1352f96-c329-4bbf-b0f4-c1c2e622dcd8",
   "metadata": {},
   "outputs": [
    {
     "data": {
      "text/plain": [
       "(2200,)"
      ]
     },
     "execution_count": 33,
     "metadata": {},
     "output_type": "execute_result"
    }
   ],
   "source": [
    "y_rgh.shape"
   ]
  },
  {
   "cell_type": "code",
   "execution_count": 19,
   "id": "fbac7926-5e13-4841-a53b-ef0021e7ab9f",
   "metadata": {},
   "outputs": [],
   "source": [
    "dataset[\"NR\"]= (dataset['N']/(dataset['N']+ dataset['K']+ dataset['K']))\n",
    "dataset[\"PR\"]= (dataset['P']/(dataset['N']+ dataset['K']+ dataset['K']))\n",
    "dataset[\"KR\"]= (dataset['K']/(dataset['N']+ dataset['K']+ dataset['K']))"
   ]
  },
  {
   "cell_type": "code",
   "execution_count": 20,
   "id": "dabbb656-5358-4c4c-b9c5-044c0ddcc1b6",
   "metadata": {},
   "outputs": [],
   "source": [
    "x = dataset.iloc[:, [3,4,5,6,8,9,10]].values"
   ]
  },
  {
   "cell_type": "code",
   "execution_count": 35,
   "id": "7e0d83b2-fe53-4d1d-a4d4-816ff2fa9d8e",
   "metadata": {},
   "outputs": [],
   "source": [
    "k= x[0]"
   ]
  },
  {
   "cell_type": "code",
   "execution_count": 21,
   "id": "1e7f0b18-bcaa-4271-873b-70201dc62e6c",
   "metadata": {},
   "outputs": [
    {
     "data": {
      "text/plain": [
       "array([[20.87974371, 82.00274423,  6.50298529, ...,  0.51136364,\n",
       "         0.23863636,  0.24431818],\n",
       "       [21.77046169, 80.31964408,  7.03809636, ...,  0.50898204,\n",
       "         0.34730539,  0.24550898],\n",
       "       [23.00445915, 82.3207629 ,  7.84020714, ...,  0.40540541,\n",
       "         0.37162162,  0.2972973 ],\n",
       "       ...,\n",
       "       [24.13179691, 67.22512329,  6.36260785, ...,  0.66292135,\n",
       "         0.18539326,  0.16853933],\n",
       "       [26.2724184 , 52.12739421,  6.75879255, ...,  0.63243243,\n",
       "         0.17297297,  0.18378378],\n",
       "       [23.60301571, 60.39647474,  6.77983261, ...,  0.63414634,\n",
       "         0.1097561 ,  0.18292683]])"
      ]
     },
     "execution_count": 21,
     "metadata": {},
     "output_type": "execute_result"
    }
   ],
   "source": [
    "x"
   ]
  },
  {
   "cell_type": "code",
   "execution_count": 22,
   "id": "b72a6ac9-d9b2-4b17-9bc6-9b855aa9528f",
   "metadata": {},
   "outputs": [],
   "source": [
    "from sklearn.compose import ColumnTransformer\n",
    "from sklearn.preprocessing import OneHotEncoder"
   ]
  },
  {
   "cell_type": "code",
   "execution_count": 23,
   "id": "cd6161ed-2a13-49c3-8b06-314e4f444762",
   "metadata": {},
   "outputs": [],
   "source": [
    "ct = ColumnTransformer(transformers=[('encoder',OneHotEncoder(),[0])], remainder='passthrough')"
   ]
  },
  {
   "cell_type": "code",
   "execution_count": 24,
   "id": "0a8e5408-2e1d-4b75-b5fa-dd9763a6c2f6",
   "metadata": {},
   "outputs": [],
   "source": [
    "y = ct.fit_transform(y)"
   ]
  },
  {
   "cell_type": "code",
   "execution_count": null,
   "id": "08105ade-06f7-4664-8c58-7d901abe7fe0",
   "metadata": {},
   "outputs": [],
   "source": []
  },
  {
   "cell_type": "code",
   "execution_count": 25,
   "id": "37dde472-cd0c-490d-98cd-9539fc52c8af",
   "metadata": {},
   "outputs": [
    {
     "data": {
      "text/plain": [
       "<2200x22 sparse matrix of type '<class 'numpy.float64'>'\n",
       "\twith 2200 stored elements in Compressed Sparse Row format>"
      ]
     },
     "execution_count": 25,
     "metadata": {},
     "output_type": "execute_result"
    }
   ],
   "source": [
    "y"
   ]
  },
  {
   "cell_type": "code",
   "execution_count": 26,
   "id": "8fa9c857-38b1-4bf9-9607-d0d5b60b5077",
   "metadata": {},
   "outputs": [
    {
     "data": {
      "text/plain": [
       "(2200, 22)"
      ]
     },
     "execution_count": 26,
     "metadata": {},
     "output_type": "execute_result"
    }
   ],
   "source": [
    "y.shape"
   ]
  },
  {
   "cell_type": "code",
   "execution_count": 27,
   "id": "f355d502-6dea-4bd7-a51a-62c0f4cfde2d",
   "metadata": {},
   "outputs": [],
   "source": [
    "from sklearn.svm import SVC"
   ]
  },
  {
   "cell_type": "code",
   "execution_count": 41,
   "id": "495ac687-1a34-41d9-8023-4fb64d7dd041",
   "metadata": {},
   "outputs": [],
   "source": [
    "classifier = SVC(kernel='rbf', random_state=0, probability=True)"
   ]
  },
  {
   "cell_type": "code",
   "execution_count": 30,
   "id": "0196f656-d836-4655-b741-6e8caf5f2c1a",
   "metadata": {},
   "outputs": [
    {
     "data": {
      "text/plain": [
       "(2200, 7)"
      ]
     },
     "execution_count": 30,
     "metadata": {},
     "output_type": "execute_result"
    }
   ],
   "source": [
    "x.shape"
   ]
  },
  {
   "cell_type": "code",
   "execution_count": 31,
   "id": "dbcb919e-8c03-4854-9535-6e6e8ffb677a",
   "metadata": {},
   "outputs": [
    {
     "data": {
      "text/plain": [
       "(2200, 22)"
      ]
     },
     "execution_count": 31,
     "metadata": {},
     "output_type": "execute_result"
    }
   ],
   "source": [
    "y.shape"
   ]
  },
  {
   "cell_type": "code",
   "execution_count": 42,
   "id": "e83d01c8-cdef-437a-a11f-62139fbaf168",
   "metadata": {},
   "outputs": [
    {
     "data": {
      "text/html": [
       "<style>#sk-container-id-2 {color: black;background-color: white;}#sk-container-id-2 pre{padding: 0;}#sk-container-id-2 div.sk-toggleable {background-color: white;}#sk-container-id-2 label.sk-toggleable__label {cursor: pointer;display: block;width: 100%;margin-bottom: 0;padding: 0.3em;box-sizing: border-box;text-align: center;}#sk-container-id-2 label.sk-toggleable__label-arrow:before {content: \"▸\";float: left;margin-right: 0.25em;color: #696969;}#sk-container-id-2 label.sk-toggleable__label-arrow:hover:before {color: black;}#sk-container-id-2 div.sk-estimator:hover label.sk-toggleable__label-arrow:before {color: black;}#sk-container-id-2 div.sk-toggleable__content {max-height: 0;max-width: 0;overflow: hidden;text-align: left;background-color: #f0f8ff;}#sk-container-id-2 div.sk-toggleable__content pre {margin: 0.2em;color: black;border-radius: 0.25em;background-color: #f0f8ff;}#sk-container-id-2 input.sk-toggleable__control:checked~div.sk-toggleable__content {max-height: 200px;max-width: 100%;overflow: auto;}#sk-container-id-2 input.sk-toggleable__control:checked~label.sk-toggleable__label-arrow:before {content: \"▾\";}#sk-container-id-2 div.sk-estimator input.sk-toggleable__control:checked~label.sk-toggleable__label {background-color: #d4ebff;}#sk-container-id-2 div.sk-label input.sk-toggleable__control:checked~label.sk-toggleable__label {background-color: #d4ebff;}#sk-container-id-2 input.sk-hidden--visually {border: 0;clip: rect(1px 1px 1px 1px);clip: rect(1px, 1px, 1px, 1px);height: 1px;margin: -1px;overflow: hidden;padding: 0;position: absolute;width: 1px;}#sk-container-id-2 div.sk-estimator {font-family: monospace;background-color: #f0f8ff;border: 1px dotted black;border-radius: 0.25em;box-sizing: border-box;margin-bottom: 0.5em;}#sk-container-id-2 div.sk-estimator:hover {background-color: #d4ebff;}#sk-container-id-2 div.sk-parallel-item::after {content: \"\";width: 100%;border-bottom: 1px solid gray;flex-grow: 1;}#sk-container-id-2 div.sk-label:hover label.sk-toggleable__label {background-color: #d4ebff;}#sk-container-id-2 div.sk-serial::before {content: \"\";position: absolute;border-left: 1px solid gray;box-sizing: border-box;top: 0;bottom: 0;left: 50%;z-index: 0;}#sk-container-id-2 div.sk-serial {display: flex;flex-direction: column;align-items: center;background-color: white;padding-right: 0.2em;padding-left: 0.2em;position: relative;}#sk-container-id-2 div.sk-item {position: relative;z-index: 1;}#sk-container-id-2 div.sk-parallel {display: flex;align-items: stretch;justify-content: center;background-color: white;position: relative;}#sk-container-id-2 div.sk-item::before, #sk-container-id-2 div.sk-parallel-item::before {content: \"\";position: absolute;border-left: 1px solid gray;box-sizing: border-box;top: 0;bottom: 0;left: 50%;z-index: -1;}#sk-container-id-2 div.sk-parallel-item {display: flex;flex-direction: column;z-index: 1;position: relative;background-color: white;}#sk-container-id-2 div.sk-parallel-item:first-child::after {align-self: flex-end;width: 50%;}#sk-container-id-2 div.sk-parallel-item:last-child::after {align-self: flex-start;width: 50%;}#sk-container-id-2 div.sk-parallel-item:only-child::after {width: 0;}#sk-container-id-2 div.sk-dashed-wrapped {border: 1px dashed gray;margin: 0 0.4em 0.5em 0.4em;box-sizing: border-box;padding-bottom: 0.4em;background-color: white;}#sk-container-id-2 div.sk-label label {font-family: monospace;font-weight: bold;display: inline-block;line-height: 1.2em;}#sk-container-id-2 div.sk-label-container {text-align: center;}#sk-container-id-2 div.sk-container {/* jupyter's `normalize.less` sets `[hidden] { display: none; }` but bootstrap.min.css set `[hidden] { display: none !important; }` so we also need the `!important` here to be able to override the default hidden behavior on the sphinx rendered scikit-learn.org. See: https://github.com/scikit-learn/scikit-learn/issues/21755 */display: inline-block !important;position: relative;}#sk-container-id-2 div.sk-text-repr-fallback {display: none;}</style><div id=\"sk-container-id-2\" class=\"sk-top-container\"><div class=\"sk-text-repr-fallback\"><pre>SVC(probability=True, random_state=0)</pre><b>In a Jupyter environment, please rerun this cell to show the HTML representation or trust the notebook. <br />On GitHub, the HTML representation is unable to render, please try loading this page with nbviewer.org.</b></div><div class=\"sk-container\" hidden><div class=\"sk-item\"><div class=\"sk-estimator sk-toggleable\"><input class=\"sk-toggleable__control sk-hidden--visually\" id=\"sk-estimator-id-2\" type=\"checkbox\" checked><label for=\"sk-estimator-id-2\" class=\"sk-toggleable__label sk-toggleable__label-arrow\">SVC</label><div class=\"sk-toggleable__content\"><pre>SVC(probability=True, random_state=0)</pre></div></div></div></div></div>"
      ],
      "text/plain": [
       "SVC(probability=True, random_state=0)"
      ]
     },
     "execution_count": 42,
     "metadata": {},
     "output_type": "execute_result"
    }
   ],
   "source": [
    "classifier.fit(x,y_rgh)"
   ]
  },
  {
   "cell_type": "code",
   "execution_count": 43,
   "id": "506983eb-1599-4c99-9562-c554e62887b5",
   "metadata": {},
   "outputs": [
    {
     "data": {
      "text/plain": [
       "array(['rice'], dtype=object)"
      ]
     },
     "execution_count": 43,
     "metadata": {},
     "output_type": "execute_result"
    }
   ],
   "source": [
    "classifier.predict([k])"
   ]
  },
  {
   "cell_type": "code",
   "execution_count": 45,
   "id": "15c52c15-ea0c-45e6-b504-cb0e0faeee2e",
   "metadata": {},
   "outputs": [
    {
     "data": {
      "text/plain": [
       "array([[1.22887976e-03, 8.73989908e-04, 6.51287373e-04, 7.17375199e-04,\n",
       "        2.02995864e-02, 6.01972118e-03, 6.84571575e-04, 6.69270672e-04,\n",
       "        2.65065583e-01, 1.06397674e-03, 5.60645037e-04, 7.78684890e-04,\n",
       "        7.63374610e-04, 6.55121012e-04, 5.99900008e-04, 6.01662023e-04,\n",
       "        1.22962124e-03, 2.30175369e-02, 4.73878156e-03, 1.04047412e-03,\n",
       "        6.68138864e-01, 6.01092855e-04]])"
      ]
     },
     "execution_count": 45,
     "metadata": {},
     "output_type": "execute_result"
    }
   ],
   "source": [
    "classifier.predict_proba([k])"
   ]
  },
  {
   "cell_type": "code",
   "execution_count": 46,
   "id": "140158dd-c194-441b-8425-8c01fb3baa66",
   "metadata": {},
   "outputs": [],
   "source": [
    "import pickle"
   ]
  },
  {
   "cell_type": "code",
   "execution_count": 59,
   "id": "b77a9fc4-b66a-4e4f-8e67-5a38ce2d8896",
   "metadata": {},
   "outputs": [],
   "source": [
    "filename = \"models_built/crop_prediction.pkl\""
   ]
  },
  {
   "cell_type": "code",
   "execution_count": 60,
   "id": "adabb9f7-50c8-4256-8a26-de2080ccfcb2",
   "metadata": {},
   "outputs": [],
   "source": [
    "pickle.dump(classifier, open(filename, 'wb'))"
   ]
  },
  {
   "cell_type": "code",
   "execution_count": 57,
   "id": "ee6dbdb4-95c3-4293-b20e-6817194c49ac",
   "metadata": {},
   "outputs": [],
   "source": [
    "filename1 = \"models_built/inversepred.pkl\""
   ]
  },
  {
   "cell_type": "code",
   "execution_count": 58,
   "id": "73d65d53-26e1-4801-bdbc-e870a6c74e67",
   "metadata": {},
   "outputs": [],
   "source": [
    "pickle.dump(ct, open(filename1, 'wb'))"
   ]
  },
  {
   "cell_type": "code",
   "execution_count": 56,
   "id": "2c1ac0bd-1a9f-4f71-a4e2-6f60e9fa8ff8",
   "metadata": {},
   "outputs": [
    {
     "name": "stdout",
     "output_type": "stream",
     "text": [
      " Volume in drive C has no label.\n",
      " Volume Serial Number is EA27-058A\n",
      "\n",
      " Directory of C:\\Users\\dheer\\OneDrive\\Desktop\\Soil-type-classifier-using-convolutional-neural-network\n",
      "\n",
      "17-12-2022  12:44    <DIR>          .\n",
      "17-12-2022  11:00    <DIR>          ..\n",
      "16-12-2022  22:12                38 .gitignore\n",
      "17-12-2022  11:33    <DIR>          .ipynb_checkpoints\n",
      "16-12-2022  22:12    <DIR>          __pycache__\n",
      "17-12-2022  12:43            18,108 crop_prediction_final.ipynb\n",
      "16-12-2022  23:38           150,034 Crop_recommendation.csv\n",
      "17-12-2022  11:35            34,801 crp_rec.ipynb\n",
      "16-12-2022  22:12    <DIR>          leafjem_app\n",
      "16-12-2022  22:12             1,089 LICENSE\n",
      "16-12-2022  22:12               713 main.py\n",
      "17-12-2022  12:22    <DIR>          models_built\n",
      "17-12-2022  12:18            26,592 n_p_k.ipynb\n",
      "16-12-2022  22:12               754 package.json\n",
      "14-05-2022  09:11            59,629 photo_2022-05-14_09-11-43.jpg\n",
      "16-12-2022  22:12                22 Procfile\n",
      "16-12-2022  22:12               245 README.md\n",
      "16-12-2022  22:12             3,320 requirements.txt\n",
      "17-12-2022  11:32             8,441 rough_col.ipynb\n",
      "16-12-2022  21:43           111,080 SOIL DATA GR.xlsx\n",
      "16-12-2022  22:12             3,254 soil.json\n",
      "16-12-2022  22:12         3,099,884 soil_classifier.tflite\n",
      "16-12-2022  22:12    <DIR>          templates\n",
      "16-12-2022  22:12    <DIR>          test\n",
      "16-12-2022  22:12    <DIR>          tfjs_files\n",
      "16-12-2022  22:12               260 toTflit.py\n",
      "16-12-2022  22:12             1,262 trained.py\n",
      "17-12-2022  12:44            17,033 Untitled.ipynb\n",
      "17-12-2022  12:21    <DIR>          uploads\n",
      "              19 File(s)      3,536,559 bytes\n",
      "              10 Dir(s)   5,886,353,408 bytes free\n"
     ]
    }
   ],
   "source": [
    "ls"
   ]
  },
  {
   "cell_type": "code",
   "execution_count": null,
   "id": "396ee792-af28-4a6e-822d-87248b793685",
   "metadata": {},
   "outputs": [],
   "source": []
  }
 ],
 "metadata": {
  "kernelspec": {
   "display_name": "Python 3 (ipykernel)",
   "language": "python",
   "name": "python3"
  },
  "language_info": {
   "codemirror_mode": {
    "name": "ipython",
    "version": 3
   },
   "file_extension": ".py",
   "mimetype": "text/x-python",
   "name": "python",
   "nbconvert_exporter": "python",
   "pygments_lexer": "ipython3",
   "version": "3.9.7"
  },
  "widgets": {
   "application/vnd.jupyter.widget-state+json": {
    "state": {},
    "version_major": 2,
    "version_minor": 0
   }
  }
 },
 "nbformat": 4,
 "nbformat_minor": 5
}
