{
 "cells": [
  {
   "cell_type": "code",
   "execution_count": 1,
   "id": "fbb4d83f-3ca3-49ba-afe4-c72c1063da1a",
   "metadata": {},
   "outputs": [
    {
     "name": "stdout",
     "output_type": "stream",
     "text": [
      " Volume in drive C has no label.\n",
      " Volume Serial Number is EA27-058A\n",
      "\n",
      " Directory of C:\\Users\\dheer\\OneDrive\\Desktop\\Soil-type-classifier-using-convolutional-neural-network\n",
      "\n",
      "16-12-2022  22:17    <DIR>          .\n",
      "16-12-2022  22:15    <DIR>          ..\n",
      "16-12-2022  22:12                38 .gitignore\n",
      "16-12-2022  22:17    <DIR>          .ipynb_checkpoints\n",
      "16-12-2022  22:12    <DIR>          __pycache__\n",
      "16-12-2022  22:12    <DIR>          leafjem_app\n",
      "16-12-2022  22:12             1,089 LICENSE\n",
      "16-12-2022  22:12               713 main.py\n",
      "16-12-2022  22:12               754 package.json\n",
      "16-12-2022  22:12                22 Procfile\n",
      "16-12-2022  22:12               245 README.md\n",
      "16-12-2022  22:12             3,320 requirements.txt\n",
      "16-12-2022  22:12             3,254 soil.json\n",
      "16-12-2022  22:12         9,354,832 soil_classifier.h5\n",
      "16-12-2022  22:12         3,099,884 soil_classifier.tflite\n",
      "16-12-2022  22:12    <DIR>          templates\n",
      "16-12-2022  22:12    <DIR>          test\n",
      "16-12-2022  22:12    <DIR>          tfjs_files\n",
      "16-12-2022  22:12               260 toTflit.py\n",
      "16-12-2022  22:12             1,262 trained.py\n",
      "16-12-2022  22:17                72 Untitled.ipynb\n",
      "16-12-2022  22:12    <DIR>          uploads\n",
      "              13 File(s)     12,465,745 bytes\n",
      "               9 Dir(s)  14,321,287,168 bytes free\n"
     ]
    }
   ],
   "source": [
    "ls"
   ]
  },
  {
   "cell_type": "code",
   "execution_count": 2,
   "id": "e14846a8-1191-4735-999d-a82ded40badf",
   "metadata": {},
   "outputs": [],
   "source": [
    "import pickle"
   ]
  },
  {
   "cell_type": "code",
   "execution_count": 10,
   "id": "87d68059-65f7-4700-b65b-c30909c8f293",
   "metadata": {},
   "outputs": [
    {
     "ename": "UnpicklingError",
     "evalue": "invalid load key, 'H'.",
     "output_type": "error",
     "traceback": [
      "\u001b[1;31m---------------------------------------------------------------------------\u001b[0m",
      "\u001b[1;31mUnpicklingError\u001b[0m                           Traceback (most recent call last)",
      "\u001b[1;32m~\\AppData\\Local\\Temp\\ipykernel_18440\\3149436542.py\u001b[0m in \u001b[0;36m<module>\u001b[1;34m\u001b[0m\n\u001b[1;32m----> 1\u001b[1;33m \u001b[0mmodel\u001b[0m \u001b[1;33m=\u001b[0m \u001b[0mpickle\u001b[0m\u001b[1;33m.\u001b[0m\u001b[0mload\u001b[0m\u001b[1;33m(\u001b[0m\u001b[0mopen\u001b[0m\u001b[1;33m(\u001b[0m\u001b[1;34m\"models_built/soil_classifier.h5\"\u001b[0m\u001b[1;33m,\u001b[0m  \u001b[1;34m\"rb\"\u001b[0m\u001b[1;33m)\u001b[0m\u001b[1;33m)\u001b[0m\u001b[1;33m\u001b[0m\u001b[1;33m\u001b[0m\u001b[0m\n\u001b[0m",
      "\u001b[1;31mUnpicklingError\u001b[0m: invalid load key, 'H'."
     ]
    }
   ],
   "source": [
    "model = pickle.load(open(\"models_built/soil_classifier.h5\",  \"rb\"))"
   ]
  },
  {
   "cell_type": "code",
   "execution_count": 4,
   "id": "3dc2e9f7-007b-4da4-beff-158c929bd61e",
   "metadata": {},
   "outputs": [],
   "source": [
    "import tensorflow as tf"
   ]
  },
  {
   "cell_type": "code",
   "execution_count": 11,
   "id": "848f1f3a-f171-4ab7-adec-1c8940e977ec",
   "metadata": {},
   "outputs": [],
   "source": [
    "model = tf.keras.models.load_model(\"models_built/soil_classifier.h5\")"
   ]
  },
  {
   "cell_type": "code",
   "execution_count": 12,
   "id": "97b57d11-9a4d-4cf6-9c37-4c2f9ccc51e4",
   "metadata": {},
   "outputs": [
    {
     "name": "stdout",
     "output_type": "stream",
     "text": [
      "Model: \"sequential\"\n",
      "_________________________________________________________________\n",
      " Layer (type)                Output Shape              Param #   \n",
      "=================================================================\n",
      " conv2d (Conv2D)             (None, 254, 254, 29)      812       \n",
      "                                                                 \n",
      " activation (Activation)     (None, 254, 254, 29)      0         \n",
      "                                                                 \n",
      " max_pooling2d (MaxPooling2D  (None, 127, 127, 29)     0         \n",
      " )                                                               \n",
      "                                                                 \n",
      " conv2d_1 (Conv2D)           (None, 125, 125, 29)      7598      \n",
      "                                                                 \n",
      " activation_1 (Activation)   (None, 125, 125, 29)      0         \n",
      "                                                                 \n",
      " max_pooling2d_1 (MaxPooling  (None, 62, 62, 29)       0         \n",
      " 2D)                                                             \n",
      "                                                                 \n",
      " conv2d_2 (Conv2D)           (None, 60, 60, 29)        7598      \n",
      "                                                                 \n",
      " activation_2 (Activation)   (None, 60, 60, 29)        0         \n",
      "                                                                 \n",
      " max_pooling2d_2 (MaxPooling  (None, 30, 30, 29)       0         \n",
      " 2D)                                                             \n",
      "                                                                 \n",
      " flatten (Flatten)           (None, 26100)             0         \n",
      "                                                                 \n",
      " dense (Dense)               (None, 29)                756929    \n",
      "                                                                 \n",
      " activation_3 (Activation)   (None, 29)                0         \n",
      "                                                                 \n",
      " dense_1 (Dense)             (None, 29)                870       \n",
      "                                                                 \n",
      " activation_4 (Activation)   (None, 29)                0         \n",
      "                                                                 \n",
      " dense_2 (Dense)             (None, 5)                 150       \n",
      "                                                                 \n",
      " activation_5 (Activation)   (None, 5)                 0         \n",
      "                                                                 \n",
      "=================================================================\n",
      "Total params: 773,957\n",
      "Trainable params: 773,957\n",
      "Non-trainable params: 0\n",
      "_________________________________________________________________\n"
     ]
    }
   ],
   "source": [
    "model.summary()"
   ]
  },
  {
   "cell_type": "code",
   "execution_count": 13,
   "id": "ad9086f8-2094-49e6-b20e-9c95a2122da9",
   "metadata": {},
   "outputs": [
    {
     "data": {
      "text/plain": [
       "<keras.engine.sequential.Sequential at 0x1dfd072c3d0>"
      ]
     },
     "execution_count": 13,
     "metadata": {},
     "output_type": "execute_result"
    }
   ],
   "source": [
    "model"
   ]
  },
  {
   "cell_type": "code",
   "execution_count": 14,
   "id": "41c9b0bc-9a2a-40df-8072-892a715e79d6",
   "metadata": {},
   "outputs": [],
   "source": [
    "class_ = ['clay', 'gravel', 'humus', 'sand', 'silt']"
   ]
  },
  {
   "cell_type": "code",
   "execution_count": 15,
   "id": "ae0b187a-0410-4126-9f42-276e58a8d2a0",
   "metadata": {},
   "outputs": [],
   "source": [
    "import numpy as np\n",
    "from tensorflow import keras"
   ]
  },
  {
   "cell_type": "code",
   "execution_count": 16,
   "id": "8f3dbde0-9583-4b7c-9c9a-d26c9fd03aab",
   "metadata": {},
   "outputs": [],
   "source": [
    "image = tf.keras.preprocessing.image"
   ]
  },
  {
   "cell_type": "code",
   "execution_count": 17,
   "id": "9090a6e3-b47b-4055-ab93-c8b40e6d35e5",
   "metadata": {},
   "outputs": [],
   "source": [
    "def classify(image_fp):\n",
    "    img = image.load_img(image_fp, target_size = (256, 256))\n",
    "    img = image.img_to_array(img)\n",
    "\n",
    "    image_array = img / 255. # scale the image\n",
    "    img_batch = np.expand_dims(image_array, axis = 0)\n",
    "\n",
    "    predicted_value = model.predict(img_batch)\n",
    "\n",
    "    out  = {\n",
    "      \"otherClasses\":[\n",
    "        { \"name\": \"clayey\", \"value\": f\"{predicted_value[0][0]}\" },\n",
    "        { \"name\": \"gravel\" ,\"value\": f\"{predicted_value[0][1]}\" },\n",
    "        { \"name\": \"humus\" , \"value\": f\"{predicted_value[0][2]}\" },\n",
    "        { \"name\": \"sandy\" , \"value\": f\"{predicted_value[0][3]}\" },\n",
    "        { \"name\": \"silty\" , \"value\": f\"{predicted_value[0][4]}\" },\n",
    "      ],\n",
    "      \"Result\": f\"{(predicted_value[0][predicted_value.argmax()] * 100):.2f}% {class_[predicted_value.argmax()]}\",\n",
    "      \"accuracy_score\": f\"{predicted_value[0][predicted_value.argmax()]}\",\n",
    "      \"accuracy_score_rounded\": f\"{(predicted_value[0][predicted_value.argmax()] * 100):.2f}\",\n",
    "      \"soil_type\": f\"{class_[predicted_value.argmax()]}\"\n",
    "    }\n",
    "    return out"
   ]
  },
  {
   "cell_type": "code",
   "execution_count": 18,
   "id": "af90c53b-3af3-458e-a705-7dcf8f993869",
   "metadata": {},
   "outputs": [
    {
     "name": "stdout",
     "output_type": "stream",
     "text": [
      "1/1 [==============================] - 0s 262ms/step\n"
     ]
    }
   ],
   "source": [
    "ans =classify(\"photo_2022-05-14_09-11-43.jpg\")"
   ]
  },
  {
   "cell_type": "code",
   "execution_count": 19,
   "id": "d5b9592e-ecdc-4167-9897-0bb0a9fa2405",
   "metadata": {},
   "outputs": [
    {
     "data": {
      "text/plain": [
       "dict"
      ]
     },
     "execution_count": 19,
     "metadata": {},
     "output_type": "execute_result"
    }
   ],
   "source": [
    "type(ans)"
   ]
  },
  {
   "cell_type": "code",
   "execution_count": 20,
   "id": "ffbe51e4-78ba-4368-986d-220f146bd083",
   "metadata": {},
   "outputs": [
    {
     "data": {
      "text/plain": [
       "{'otherClasses': [{'name': 'clayey', 'value': '1.5045551898128966e-15'},\n",
       "  {'name': 'gravel', 'value': '0.021584998816251755'},\n",
       "  {'name': 'humus', 'value': '4.388328367355143e-09'},\n",
       "  {'name': 'sandy', 'value': '0.977480411529541'},\n",
       "  {'name': 'silty', 'value': '0.0009345680009573698'}],\n",
       " 'Result': '97.75% sand',\n",
       " 'accuracy_score': '0.977480411529541',\n",
       " 'accuracy_score_rounded': '97.75',\n",
       " 'soil_type': 'sand'}"
      ]
     },
     "execution_count": 20,
     "metadata": {},
     "output_type": "execute_result"
    }
   ],
   "source": [
    "ans"
   ]
  },
  {
   "cell_type": "code",
   "execution_count": 21,
   "id": "a5259cae-7260-462e-9134-adb45eea5e58",
   "metadata": {},
   "outputs": [
    {
     "data": {
      "text/plain": [
       "{'name': 'silty', 'value': '0.0009345680009573698'}"
      ]
     },
     "execution_count": 21,
     "metadata": {},
     "output_type": "execute_result"
    }
   ],
   "source": [
    "ans['otherClasses'][4]"
   ]
  },
  {
   "cell_type": "code",
   "execution_count": 22,
   "id": "808dba61-304e-41e5-8606-1b99ddfdbe49",
   "metadata": {},
   "outputs": [
    {
     "ename": "NameError",
     "evalue": "name 'sand' is not defined",
     "output_type": "error",
     "traceback": [
      "\u001b[1;31m---------------------------------------------------------------------------\u001b[0m",
      "\u001b[1;31mNameError\u001b[0m                                 Traceback (most recent call last)",
      "\u001b[1;32m~\\AppData\\Local\\Temp\\ipykernel_18440\\257340589.py\u001b[0m in \u001b[0;36m<module>\u001b[1;34m\u001b[0m\n\u001b[1;32m----> 1\u001b[1;33m \u001b[0mtype\u001b[0m\u001b[1;33m(\u001b[0m\u001b[0msand\u001b[0m\u001b[1;33m)\u001b[0m\u001b[1;33m\u001b[0m\u001b[1;33m\u001b[0m\u001b[0m\n\u001b[0m",
      "\u001b[1;31mNameError\u001b[0m: name 'sand' is not defined"
     ]
    }
   ],
   "source": [
    "type(sand)"
   ]
  },
  {
   "cell_type": "code",
   "execution_count": 23,
   "id": "1876de46-e3b5-470a-9f0a-639d5a861b85",
   "metadata": {},
   "outputs": [
    {
     "ename": "NameError",
     "evalue": "name 'sand' is not defined",
     "output_type": "error",
     "traceback": [
      "\u001b[1;31m---------------------------------------------------------------------------\u001b[0m",
      "\u001b[1;31mNameError\u001b[0m                                 Traceback (most recent call last)",
      "\u001b[1;32m~\\AppData\\Local\\Temp\\ipykernel_18440\\2303618587.py\u001b[0m in \u001b[0;36m<module>\u001b[1;34m\u001b[0m\n\u001b[1;32m----> 1\u001b[1;33m \u001b[0msand\u001b[0m\u001b[1;33m\u001b[0m\u001b[1;33m\u001b[0m\u001b[0m\n\u001b[0m",
      "\u001b[1;31mNameError\u001b[0m: name 'sand' is not defined"
     ]
    }
   ],
   "source": [
    "sand"
   ]
  },
  {
   "cell_type": "code",
   "execution_count": 24,
   "id": "5ef2024d-abdc-416a-a5c5-9d2ca14067b4",
   "metadata": {},
   "outputs": [],
   "source": [
    "sand = float(ans['otherClasses'][3]['value'])"
   ]
  },
  {
   "cell_type": "code",
   "execution_count": 25,
   "id": "b1e03e24-8dfd-4b48-bf21-2a0ea7ddcfc3",
   "metadata": {},
   "outputs": [],
   "source": [
    "clay = float(ans['otherClasses'][0]['value'])"
   ]
  },
  {
   "cell_type": "code",
   "execution_count": 26,
   "id": "bf044c23-606b-493b-a21a-0eedc39bbb54",
   "metadata": {},
   "outputs": [],
   "source": [
    "silt = float(ans['otherClasses'][4]['value'])"
   ]
  },
  {
   "cell_type": "code",
   "execution_count": 27,
   "id": "84d01f62-06b0-4c25-bffe-539bff010bec",
   "metadata": {},
   "outputs": [
    {
     "data": {
      "text/plain": [
       "(0.977480411529541, 1.5045551898128966e-15, 0.0009345680009573698)"
      ]
     },
     "execution_count": 27,
     "metadata": {},
     "output_type": "execute_result"
    }
   ],
   "source": [
    "(sand, clay, silt)"
   ]
  },
  {
   "cell_type": "code",
   "execution_count": 28,
   "id": "0f03f9b1-0f3b-4319-8235-4330023cae27",
   "metadata": {},
   "outputs": [],
   "source": [
    "sandper = sand/(sand+clay+silt)\n",
    "clayper = clay/(sand+clay+silt)\n",
    "siltper = silt/(sand+clay+ silt)"
   ]
  },
  {
   "cell_type": "code",
   "execution_count": 29,
   "id": "ac4c377a-1e2a-42dc-8011-3c6fd4091a77",
   "metadata": {},
   "outputs": [],
   "source": [
    "tst = [sand, clay,silt]"
   ]
  },
  {
   "cell_type": "code",
   "execution_count": 30,
   "id": "101af213-36ae-4512-8438-313e391d82aa",
   "metadata": {},
   "outputs": [
    {
     "data": {
      "text/plain": [
       "list"
      ]
     },
     "execution_count": 30,
     "metadata": {},
     "output_type": "execute_result"
    }
   ],
   "source": [
    "type(tst)"
   ]
  },
  {
   "cell_type": "code",
   "execution_count": 31,
   "id": "2f7d9e35-8e80-402c-97dc-69777de12b85",
   "metadata": {},
   "outputs": [],
   "source": [
    "lock = \"models_built/kpred.pkl\"\n",
    "locn = \"models_built/npred.pkl\"\n",
    "locp = \"models_built/ppred.pkl\""
   ]
  },
  {
   "cell_type": "code",
   "execution_count": 32,
   "id": "17327d53-29cb-4efd-a082-eaa318ecb270",
   "metadata": {},
   "outputs": [],
   "source": [
    "model_k = pickle.load(open(lock, 'rb'))\n",
    "model_n = pickle.load(open(locn, 'rb'))\n",
    "model_p = pickle.load(open(locp, \"rb\"))"
   ]
  },
  {
   "cell_type": "code",
   "execution_count": 33,
   "id": "6ae81c01-d33e-4870-8c6e-4e908a3755e5",
   "metadata": {},
   "outputs": [],
   "source": [
    "a= model_k.predict([tst])"
   ]
  },
  {
   "cell_type": "code",
   "execution_count": 34,
   "id": "5749d8d7-5a3c-49be-ac93-b0b24872bd04",
   "metadata": {},
   "outputs": [
    {
     "data": {
      "text/plain": [
       "363.30976190476184"
      ]
     },
     "execution_count": 34,
     "metadata": {},
     "output_type": "execute_result"
    }
   ],
   "source": [
    "a[0]"
   ]
  },
  {
   "cell_type": "code",
   "execution_count": 35,
   "id": "f282d372-7372-4632-a810-8a6f0a68ef6a",
   "metadata": {},
   "outputs": [],
   "source": [
    "b=model_n.predict([tst])"
   ]
  },
  {
   "cell_type": "code",
   "execution_count": 36,
   "id": "7905832f-3443-4c6a-b3c5-658eddeeab45",
   "metadata": {},
   "outputs": [],
   "source": [
    "c=model_p.predict([tst])"
   ]
  },
  {
   "cell_type": "code",
   "execution_count": 37,
   "id": "f2ea63f5-2298-4679-9434-63cd24e048e2",
   "metadata": {},
   "outputs": [],
   "source": [
    "location_cp = \"models_built/crop_prediction.pkl\""
   ]
  },
  {
   "cell_type": "code",
   "execution_count": 38,
   "id": "966d661c-af9b-42b9-bf88-8ee8dadc59a3",
   "metadata": {},
   "outputs": [],
   "source": [
    "k = [a[0], b[0], c[0]]"
   ]
  },
  {
   "cell_type": "code",
   "execution_count": 39,
   "id": "fae0f3e8-9e3a-4e1c-aceb-fb4dc8e7bfcf",
   "metadata": {},
   "outputs": [],
   "source": [
    "tsf = \"models_built/inversepred.pkl\""
   ]
  },
  {
   "cell_type": "code",
   "execution_count": 40,
   "id": "5c7e14c9-df2c-4ebf-aa06-dd4f77f90a25",
   "metadata": {},
   "outputs": [],
   "source": [
    "modelcp= pickle.load(open(location_cp, 'rb'))\n",
    "modelts = pickle.load(open(tsf, 'rb'))"
   ]
  },
  {
   "cell_type": "code",
   "execution_count": 41,
   "id": "a85e7a73-3d32-4909-9cf4-61a62afa0a9c",
   "metadata": {},
   "outputs": [],
   "source": [
    "import random"
   ]
  },
  {
   "cell_type": "code",
   "execution_count": 42,
   "id": "40dbf485-f4da-4044-bf66-7fa728acb68a",
   "metadata": {},
   "outputs": [],
   "source": [
    "for i in range(0,4):\n",
    "    k.append(random.randint(10, 70))"
   ]
  },
  {
   "cell_type": "code",
   "execution_count": 43,
   "id": "44971f30-4fcb-45f6-b859-b0fc5ba4b96a",
   "metadata": {},
   "outputs": [
    {
     "data": {
      "text/plain": [
       "array(['papaya'], dtype=object)"
      ]
     },
     "execution_count": 43,
     "metadata": {},
     "output_type": "execute_result"
    }
   ],
   "source": [
    "modelcp.predict([k])"
   ]
  },
  {
   "cell_type": "code",
   "execution_count": 44,
   "id": "3e4137b8-dc0c-4250-8153-bc46a3bf3d76",
   "metadata": {},
   "outputs": [],
   "source": [
    "ansk =modelcp.predict_proba([k])"
   ]
  },
  {
   "cell_type": "code",
   "execution_count": 85,
   "id": "0bf89ce8-9b00-46f6-85e7-214b37582fee",
   "metadata": {},
   "outputs": [],
   "source": [
    "checks=ansk[0].argsort()[-3:][::-1]"
   ]
  },
  {
   "cell_type": "code",
   "execution_count": 86,
   "id": "b06201af-55ea-43e7-b43b-09d0b9fcb353",
   "metadata": {},
   "outputs": [
    {
     "data": {
      "text/plain": [
       "array([17, 18,  9], dtype=int64)"
      ]
     },
     "execution_count": 86,
     "metadata": {},
     "output_type": "execute_result"
    }
   ],
   "source": [
    "checks"
   ]
  },
  {
   "cell_type": "code",
   "execution_count": null,
   "id": "1e4768da-db00-4711-9245-6939df3b789a",
   "metadata": {},
   "outputs": [],
   "source": []
  },
  {
   "cell_type": "code",
   "execution_count": 53,
   "id": "642a8237-ac74-4d13-94c7-897cf9faf4fb",
   "metadata": {},
   "outputs": [],
   "source": [
    "vemts = modelts.get_feature_names()"
   ]
  },
  {
   "cell_type": "code",
   "execution_count": 67,
   "id": "9f148cbb-242d-4c62-9579-642bac0888e5",
   "metadata": {},
   "outputs": [
    {
     "name": "stdout",
     "output_type": "stream",
     "text": [
      "snaebyendik_0x__redocne\n",
      "encoder__x0_kidneybeans\n"
     ]
    }
   ],
   "source": [
    "print(vemts[9][::-1])\n",
    "print(vemts[9])"
   ]
  },
  {
   "cell_type": "code",
   "execution_count": 78,
   "id": "cc756cf4-f356-48a6-b5d9-b5aa1306d1e7",
   "metadata": {},
   "outputs": [],
   "source": [
    "def stringrem(name):\n",
    "    l = len(name)\n",
    "    \n",
    "    name = name[::-1]\n",
    "    \n",
    "    newname = \"\"\n",
    "    for al in name:\n",
    "        if al=='_':\n",
    "            break\n",
    "        else:\n",
    "            newname+=al\n",
    "    return newname[::-1]\n",
    "        \n",
    "    "
   ]
  },
  {
   "cell_type": "code",
   "execution_count": 79,
   "id": "5d4f407a-122b-4ead-a708-9cd07632aac0",
   "metadata": {},
   "outputs": [
    {
     "data": {
      "text/plain": [
       "'apple'"
      ]
     },
     "execution_count": 79,
     "metadata": {},
     "output_type": "execute_result"
    }
   ],
   "source": [
    "stringrem(vemts[0])"
   ]
  },
  {
   "cell_type": "code",
   "execution_count": 80,
   "id": "85767ea7-4c03-45a2-825e-985367551ad1",
   "metadata": {},
   "outputs": [],
   "source": [
    "rep=[]\n",
    "for st in vemts:\n",
    "    rep.append(stringrem(st))\n",
    "    "
   ]
  },
  {
   "cell_type": "code",
   "execution_count": 82,
   "id": "db32a0a2-d9fc-4680-a1c0-d8675355eaf2",
   "metadata": {},
   "outputs": [
    {
     "data": {
      "text/plain": [
       "'papaya'"
      ]
     },
     "execution_count": 82,
     "metadata": {},
     "output_type": "execute_result"
    }
   ],
   "source": [
    "rep[17]"
   ]
  },
  {
   "cell_type": "code",
   "execution_count": 46,
   "id": "2c6f9231-4cdf-4733-88a2-7d23305d6c34",
   "metadata": {},
   "outputs": [],
   "source": [
    "p=modelcp.predict_proba([k])"
   ]
  },
  {
   "cell_type": "code",
   "execution_count": 47,
   "id": "04845697-4005-4b1e-9f90-04889e3356c1",
   "metadata": {},
   "outputs": [],
   "source": [
    "ind = np.argmax(p)"
   ]
  },
  {
   "cell_type": "code",
   "execution_count": 48,
   "id": "7f82b750-a6c9-4c87-9e5d-4857b1a65f07",
   "metadata": {},
   "outputs": [
    {
     "data": {
      "text/plain": [
       "17"
      ]
     },
     "execution_count": 48,
     "metadata": {},
     "output_type": "execute_result"
    }
   ],
   "source": [
    "ind"
   ]
  },
  {
   "cell_type": "code",
   "execution_count": 50,
   "id": "3407017d-a2b5-4ad4-93bf-48e7648ada78",
   "metadata": {},
   "outputs": [
    {
     "data": {
      "text/plain": [
       "17"
      ]
     },
     "execution_count": 50,
     "metadata": {},
     "output_type": "execute_result"
    }
   ],
   "source": [
    "np.argmax(p)"
   ]
  },
  {
   "cell_type": "code",
   "execution_count": 51,
   "id": "bcc85578-c13a-4abb-a779-3f5acfc54408",
   "metadata": {},
   "outputs": [
    {
     "data": {
      "text/plain": [
       "array(['papaya'], dtype=object)"
      ]
     },
     "execution_count": 51,
     "metadata": {},
     "output_type": "execute_result"
    }
   ],
   "source": [
    "modelcp.predict([k])"
   ]
  },
  {
   "cell_type": "code",
   "execution_count": null,
   "id": "c23e74cc-14d8-4d5c-a34d-53a82747349d",
   "metadata": {},
   "outputs": [],
   "source": []
  }
 ],
 "metadata": {
  "kernelspec": {
   "display_name": "Python 3 (ipykernel)",
   "language": "python",
   "name": "python3"
  },
  "language_info": {
   "codemirror_mode": {
    "name": "ipython",
    "version": 3
   },
   "file_extension": ".py",
   "mimetype": "text/x-python",
   "name": "python",
   "nbconvert_exporter": "python",
   "pygments_lexer": "ipython3",
   "version": "3.9.7"
  },
  "widgets": {
   "application/vnd.jupyter.widget-state+json": {
    "state": {},
    "version_major": 2,
    "version_minor": 0
   }
  }
 },
 "nbformat": 4,
 "nbformat_minor": 5
}
