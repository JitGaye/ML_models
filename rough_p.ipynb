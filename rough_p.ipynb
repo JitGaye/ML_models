{
 "cells": [
  {
   "cell_type": "code",
   "execution_count": 1,
   "id": "80f58200-2483-461f-b14c-2545275f0df8",
   "metadata": {},
   "outputs": [
    {
     "name": "stdout",
     "output_type": "stream",
     "text": [
      " Volume in drive C has no label.\n",
      " Volume Serial Number is EA27-058A\n",
      "\n",
      " Directory of C:\\Users\\dheer\\OneDrive\\Desktop\\Soil-type-classifier-using-convolutional-neural-network\\models_built\n",
      "\n",
      "17-12-2022  12:20    <DIR>          .\n",
      "17-12-2022  12:20    <DIR>          ..\n",
      "17-12-2022  12:20    <DIR>          .ipynb_checkpoints\n",
      "17-12-2022  12:13             1,154 crop_prediction.pkl\n",
      "17-12-2022  12:17         3,163,344 kpred.pkl\n",
      "17-12-2022  12:17         3,163,600 npred.pkl\n",
      "17-12-2022  12:17         3,163,984 ppred.pkl\n",
      "17-12-2022  12:20                72 Untitled.ipynb\n",
      "               5 File(s)      9,492,154 bytes\n",
      "               3 Dir(s)  17,512,099,840 bytes free\n"
     ]
    }
   ],
   "source": [
    "ls"
   ]
  },
  {
   "cell_type": "code",
   "execution_count": 2,
   "id": "3247cc7d-c4d5-4717-9a77-e75e7775af5c",
   "metadata": {},
   "outputs": [
    {
     "name": "stdout",
     "output_type": "stream",
     "text": [
      " Volume in drive C has no label.\n",
      " Volume Serial Number is EA27-058A\n",
      "\n",
      " Directory of C:\\Users\\dheer\\OneDrive\\Desktop\\Soil-type-classifier-using-convolutional-neural-network\\models_built\n",
      "\n",
      "17-12-2022  12:21    <DIR>          .\n",
      "17-12-2022  12:21    <DIR>          ..\n",
      "17-12-2022  12:20    <DIR>          .ipynb_checkpoints\n",
      "17-12-2022  12:13             1,154 crop_prediction.pkl\n",
      "17-12-2022  12:17         3,163,344 kpred.pkl\n",
      "17-12-2022  12:17         3,163,600 npred.pkl\n",
      "17-12-2022  12:17         3,163,984 ppred.pkl\n",
      "16-12-2022  22:12         9,354,832 soil_classifier.h5\n",
      "17-12-2022  12:20                72 Untitled.ipynb\n",
      "               6 File(s)     18,846,986 bytes\n",
      "               3 Dir(s)  17,511,456,768 bytes free\n"
     ]
    }
   ],
   "source": [
    "ls"
   ]
  },
  {
   "cell_type": "code",
   "execution_count": null,
   "id": "1082fdeb-a027-4eb2-8f1c-d35ccc630097",
   "metadata": {},
   "outputs": [],
   "source": []
  }
 ],
 "metadata": {
  "kernelspec": {
   "display_name": "base",
   "language": "python",
   "name": "python3"
  },
  "language_info": {
   "codemirror_mode": {
    "name": "ipython",
    "version": 3
   },
   "file_extension": ".py",
   "mimetype": "text/x-python",
   "name": "python",
   "nbconvert_exporter": "python",
   "pygments_lexer": "ipython3",
   "version": "3.9.7 (default, Sep 16 2021, 16:59:28) [MSC v.1916 64 bit (AMD64)]"
  },
  "vscode": {
   "interpreter": {
    "hash": "65f3d151c01cb2eb8cb3cbc9bfec4b76d92f9f81668530c6dd593ccd196c605b"
   }
  },
  "widgets": {
   "application/vnd.jupyter.widget-state+json": {
    "state": {},
    "version_major": 2,
    "version_minor": 0
   }
  }
 },
 "nbformat": 4,
 "nbformat_minor": 5
}
